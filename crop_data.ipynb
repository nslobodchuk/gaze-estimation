{
 "cells": [
  {
   "cell_type": "markdown",
   "id": "8e6eb2cb",
   "metadata": {
    "papermill": {
     "duration": 0.003011,
     "end_time": "2025-03-18T18:52:30.953389",
     "exception": false,
     "start_time": "2025-03-18T18:52:30.950378",
     "status": "completed"
    },
    "tags": []
   },
   "source": [
    "## Source: [gazet_dataset/load_dataset.ipynb](https://github.com/mirmashel/gazet_dataset/blob/main/load_dataset.ipynb)"
   ]
  },
  {
   "cell_type": "code",
   "execution_count": 1,
   "id": "d14357d2",
   "metadata": {
    "papermill": {
     "duration": 1.247843,
     "end_time": "2025-03-18T18:52:32.204064",
     "exception": false,
     "start_time": "2025-03-18T18:52:30.956221",
     "status": "completed"
    },
    "tags": []
   },
   "outputs": [],
   "source": [
    "import json\n",
    "import cv2\n",
    "import os\n",
    "import matplotlib.pyplot as plt\n",
    "import numpy as np\n",
    "import shutil\n",
    "import pandas as pd\n",
    "\n",
    "data_dir = \"/mnt/hdd/ai_n_slo/gazet-data-original/dataset\"\n",
    "destination_directory = \"/mnt/hdd/ai_n_slo/gazet-data-cropped\""
   ]
  },
  {
   "cell_type": "code",
   "execution_count": 2,
   "id": "97f94987",
   "metadata": {
    "papermill": {
     "duration": 2.221902,
     "end_time": "2025-03-18T18:52:34.428706",
     "exception": false,
     "start_time": "2025-03-18T18:52:32.206804",
     "status": "completed"
    },
    "tags": []
   },
   "outputs": [],
   "source": [
    "# load metadata and index\n",
    "with open(os.path.join(data_dir, 'metadata.json'), 'r') as f:\n",
    "    meta_index = json.load(f)"
   ]
  },
  {
   "cell_type": "code",
   "execution_count": 3,
   "id": "829ff7eb",
   "metadata": {
    "papermill": {
     "duration": 0.010608,
     "end_time": "2025-03-18T18:52:34.442206",
     "exception": false,
     "start_time": "2025-03-18T18:52:34.431598",
     "status": "completed"
    },
    "tags": []
   },
   "outputs": [],
   "source": [
    "def load_image(meta):\n",
    "    '''\n",
    "    Read images\n",
    "    '''\n",
    "    image_path = os.path.join(data_dir, 'images', meta['task_id'], meta['step'])\n",
    "    return cv2.imread(image_path)[..., ::-1]"
   ]
  },
  {
   "cell_type": "code",
   "execution_count": 4,
   "id": "7cb766e5",
   "metadata": {
    "papermill": {
     "duration": 0.011687,
     "end_time": "2025-03-18T18:52:34.456587",
     "exception": false,
     "start_time": "2025-03-18T18:52:34.444900",
     "status": "completed"
    },
    "tags": []
   },
   "outputs": [],
   "source": [
    "def draw_meta(image, meta):\n",
    "    '''\n",
    "    Visualize metadata, draw eyes points and gaze point on the screen\n",
    "    '''\n",
    "    result_image = np.array(image)\n",
    "    image_size = image.shape[:2]\n",
    "    # draw eyes points \n",
    "    for point in [\n",
    "        meta['eyes_left_left'],\n",
    "        meta['eyes_left_right'],\n",
    "        meta['eyes_right_left'],\n",
    "        meta['eyes_right_right']\n",
    "    ]:\n",
    "        result_image = cv2.circle(result_image, point, max(2, int(image_size[0] * 0.01)), (0, 255, 0), -1)\n",
    "\n",
    "    # visualize point of gaze on the screen\n",
    "    screen = np.zeros((meta['screen_size_y'], meta['screen_size_x'], 3), dtype=np.uint8)\n",
    "    gaze = [int(meta['screen_size_x'] * (meta['relative_x'])), int(meta['screen_size_y'] * meta['relative_y'])]\n",
    "    screen = cv2.circle(screen, gaze, max(2, int(meta['screen_size_x'] * 0.02)), (255, 0, 0), -1)\n",
    "    return result_image, screen"
   ]
  },
  {
   "cell_type": "code",
   "execution_count": 5,
   "id": "aa1cc173",
   "metadata": {
    "papermill": {
     "duration": 0.013654,
     "end_time": "2025-03-18T18:52:34.472933",
     "exception": false,
     "start_time": "2025-03-18T18:52:34.459279",
     "status": "completed"
    },
    "tags": []
   },
   "outputs": [],
   "source": [
    "def crop_image(image, bbox):\n",
    "    '''\n",
    "    Crop bbox from image\n",
    "    '''\n",
    "    x, y, w, h = bbox\n",
    "    w_matrix = [1, 0, float(x)]\n",
    "    h_matrix = [0, 1, float(y)]\n",
    "\n",
    "    image = cv2.warpAffine(\n",
    "        image,\n",
    "        np.column_stack((w_matrix, h_matrix)).T,\n",
    "        (w, h),\n",
    "        flags=cv2.INTER_LINEAR | cv2.WARP_INVERSE_MAP,\n",
    "        borderMode=cv2.BORDER_REPLICATE,\n",
    "    )\n",
    "    return image\n",
    "\n",
    "# create bounding box of eyes field and crop it from image to further train\n",
    "def crop_eyes(image, meta):\n",
    "    '''\n",
    "    Create bounding box from eyes points and crop eyes field from image to further train and inference\n",
    "    '''\n",
    "    left_left_point, left_right_point, right_left_point, right_right_point = [\n",
    "        meta['eyes_left_left'],\n",
    "        meta['eyes_left_right'],\n",
    "        meta['eyes_right_left'],\n",
    "        meta['eyes_right_right']\n",
    "    ]\n",
    "    left_med = [(left_left_point[0] + left_right_point[0]) / 2, (left_left_point[1] + left_right_point[1]) / 2]\n",
    "    right_med = [(right_left_point[0] + right_right_point[0]) / 2, (right_left_point[1] + right_right_point[1]) / 2]\n",
    "\n",
    "    left_dist = np.sqrt(\n",
    "        (left_left_point[0] - left_right_point[0]) ** 2 + (left_left_point[1] - left_right_point[1]) ** 2\n",
    "    )\n",
    "    right_dist = np.sqrt(\n",
    "        (right_left_point[0] - right_right_point[0]) ** 2 + (right_left_point[1] - right_right_point[1]) ** 2\n",
    "    )\n",
    "    mean_dist = (left_dist + right_dist) / 2\n",
    "\n",
    "    cropped_image = crop_image(\n",
    "        image,\n",
    "        bbox=[\n",
    "            int(min(left_med[0] - mean_dist, right_med[0] - mean_dist)),\n",
    "            int(min(left_med[1] - mean_dist, right_med[1] - mean_dist)),\n",
    "            int(2 * mean_dist + abs(left_med[0] - right_med[0])),\n",
    "            int(2 * mean_dist + abs(left_med[1] - right_med[1])),\n",
    "        ],\n",
    "    )\n",
    "    return cropped_image"
   ]
  },
  {
   "cell_type": "code",
   "execution_count": 6,
   "id": "88d4c146",
   "metadata": {
    "papermill": {
     "duration": 3485.060643,
     "end_time": "2025-03-18T19:50:39.547600",
     "exception": false,
     "start_time": "2025-03-18T18:52:34.486957",
     "status": "completed"
    },
    "tags": []
   },
   "outputs": [
    {
     "name": "stdout",
     "output_type": "stream",
     "text": [
      "[0/144275]\n",
      "[10000/144275]\n",
      "[20000/144275]\n",
      "[30000/144275]\n",
      "[40000/144275]\n",
      "[50000/144275]\n",
      "[60000/144275]\n",
      "[70000/144275]\n",
      "[80000/144275]\n",
      "[90000/144275]\n",
      "[100000/144275]\n",
      "[110000/144275]\n",
      "[120000/144275]\n",
      "[130000/144275]\n",
      "[140000/144275]\n"
     ]
    }
   ],
   "source": [
    "os.makedirs(os.path.join(destination_directory, \"images\"))\n",
    "shutil.copy2(os.path.join(data_dir, 'metadata.json'), destination_directory)\n",
    "\n",
    "image_sizes = []\n",
    "\n",
    "for i_, meta in enumerate(meta_index):\n",
    "    image = load_image(meta)\n",
    "    \n",
    "    h, w = image.shape[:2]\n",
    "    image_sizes.append({\n",
    "        \"task_id\": meta[\"task_id\"],\n",
    "        \"step\": meta[\"step\"],\n",
    "        \"h\": h,\n",
    "        \"w\": w\n",
    "    })\n",
    "    \n",
    "    # image_with_meta, screen = draw_meta(image, meta)\n",
    "    image_crop = crop_eyes(image, meta)\n",
    "\n",
    "    task_dir = os.path.join(destination_directory, 'images', meta['task_id'])\n",
    "    if not os.path.exists(task_dir):\n",
    "        os.makedirs(task_dir)\n",
    "\n",
    "    image_crop = cv2.cvtColor(image_crop, cv2.COLOR_BGR2RGB)\n",
    "\n",
    "    cv2.imwrite(os.path.join(destination_directory, 'images', meta['task_id'], meta['step']), image_crop)\n",
    "\n",
    "    if i_%10_000 == 0:\n",
    "        print(f\"[{i_}/{len(meta_index)}]\")\n",
    "    \n",
    "pd.DataFrame(image_sizes).to_csv(os.path.join(destination_directory, \"image_sizes.csv\"), sep=\"\\t\")"
   ]
  },
  {
   "cell_type": "code",
   "execution_count": null,
   "id": "4b284770-f669-4c99-bb51-a42814195fa4",
   "metadata": {},
   "outputs": [],
   "source": []
  }
 ],
 "metadata": {
  "kaggle": {
   "accelerator": "none",
   "dataSources": [
    {
     "datasetId": 6480774,
     "sourceId": 10467288,
     "sourceType": "datasetVersion"
    }
   ],
   "dockerImageVersionId": 30822,
   "isGpuEnabled": false,
   "isInternetEnabled": true,
   "language": "python",
   "sourceType": "notebook"
  },
  "kernelspec": {
   "display_name": "Python 3 (ipykernel)",
   "language": "python",
   "name": "python3"
  },
  "language_info": {
   "codemirror_mode": {
    "name": "ipython",
    "version": 3
   },
   "file_extension": ".py",
   "mimetype": "text/x-python",
   "name": "python",
   "nbconvert_exporter": "python",
   "pygments_lexer": "ipython3",
   "version": "3.12.3"
  },
  "papermill": {
   "default_parameters": {},
   "duration": 3492.321911,
   "end_time": "2025-03-18T19:50:40.478195",
   "environment_variables": {},
   "exception": null,
   "input_path": "__notebook__.ipynb",
   "output_path": "__notebook__.ipynb",
   "parameters": {},
   "start_time": "2025-03-18T18:52:28.156284",
   "version": "2.6.0"
  }
 },
 "nbformat": 4,
 "nbformat_minor": 5
}
